{
  "nbformat": 4,
  "nbformat_minor": 0,
  "metadata": {
    "colab": {
      "provenance": [],
      "collapsed_sections": [],
      "authorship_tag": "ABX9TyP86J/7D3K5VH0JNxsn29ib",
      "include_colab_link": true
    },
    "kernelspec": {
      "name": "python3",
      "display_name": "Python 3"
    },
    "language_info": {
      "name": "python"
    }
  },
  "cells": [
    {
      "cell_type": "markdown",
      "metadata": {
        "id": "view-in-github",
        "colab_type": "text"
      },
      "source": [
        "<a href=\"https://colab.research.google.com/github/alexlih/2022_MLAI_HW1-Auto_Trading/blob/main/stock_predict.ipynb\" target=\"_parent\"><img src=\"https://colab.research.google.com/assets/colab-badge.svg\" alt=\"Open In Colab\"/></a>"
      ]
    },
    {
      "cell_type": "code",
      "source": [
        "from google.colab import files\n",
        "uploaded = files.upload()"
      ],
      "metadata": {
        "colab": {
          "base_uri": "https://localhost:8080/",
          "height": 76
        },
        "id": "VaBak566rI30",
        "outputId": "92595c94-8e39-43cb-a670-4c2c65cd6fd9"
      },
      "execution_count": 5,
      "outputs": [
        {
          "output_type": "display_data",
          "data": {
            "text/plain": [
              "<IPython.core.display.HTML object>"
            ],
            "text/html": [
              "\n",
              "     <input type=\"file\" id=\"files-964d04f1-446e-490f-bf3f-b2099e02636f\" name=\"files[]\" multiple disabled\n",
              "        style=\"border:none\" />\n",
              "     <output id=\"result-964d04f1-446e-490f-bf3f-b2099e02636f\">\n",
              "      Upload widget is only available when the cell has been executed in the\n",
              "      current browser session. Please rerun this cell to enable.\n",
              "      </output>\n",
              "      <script>// Copyright 2017 Google LLC\n",
              "//\n",
              "// Licensed under the Apache License, Version 2.0 (the \"License\");\n",
              "// you may not use this file except in compliance with the License.\n",
              "// You may obtain a copy of the License at\n",
              "//\n",
              "//      http://www.apache.org/licenses/LICENSE-2.0\n",
              "//\n",
              "// Unless required by applicable law or agreed to in writing, software\n",
              "// distributed under the License is distributed on an \"AS IS\" BASIS,\n",
              "// WITHOUT WARRANTIES OR CONDITIONS OF ANY KIND, either express or implied.\n",
              "// See the License for the specific language governing permissions and\n",
              "// limitations under the License.\n",
              "\n",
              "/**\n",
              " * @fileoverview Helpers for google.colab Python module.\n",
              " */\n",
              "(function(scope) {\n",
              "function span(text, styleAttributes = {}) {\n",
              "  const element = document.createElement('span');\n",
              "  element.textContent = text;\n",
              "  for (const key of Object.keys(styleAttributes)) {\n",
              "    element.style[key] = styleAttributes[key];\n",
              "  }\n",
              "  return element;\n",
              "}\n",
              "\n",
              "// Max number of bytes which will be uploaded at a time.\n",
              "const MAX_PAYLOAD_SIZE = 100 * 1024;\n",
              "\n",
              "function _uploadFiles(inputId, outputId) {\n",
              "  const steps = uploadFilesStep(inputId, outputId);\n",
              "  const outputElement = document.getElementById(outputId);\n",
              "  // Cache steps on the outputElement to make it available for the next call\n",
              "  // to uploadFilesContinue from Python.\n",
              "  outputElement.steps = steps;\n",
              "\n",
              "  return _uploadFilesContinue(outputId);\n",
              "}\n",
              "\n",
              "// This is roughly an async generator (not supported in the browser yet),\n",
              "// where there are multiple asynchronous steps and the Python side is going\n",
              "// to poll for completion of each step.\n",
              "// This uses a Promise to block the python side on completion of each step,\n",
              "// then passes the result of the previous step as the input to the next step.\n",
              "function _uploadFilesContinue(outputId) {\n",
              "  const outputElement = document.getElementById(outputId);\n",
              "  const steps = outputElement.steps;\n",
              "\n",
              "  const next = steps.next(outputElement.lastPromiseValue);\n",
              "  return Promise.resolve(next.value.promise).then((value) => {\n",
              "    // Cache the last promise value to make it available to the next\n",
              "    // step of the generator.\n",
              "    outputElement.lastPromiseValue = value;\n",
              "    return next.value.response;\n",
              "  });\n",
              "}\n",
              "\n",
              "/**\n",
              " * Generator function which is called between each async step of the upload\n",
              " * process.\n",
              " * @param {string} inputId Element ID of the input file picker element.\n",
              " * @param {string} outputId Element ID of the output display.\n",
              " * @return {!Iterable<!Object>} Iterable of next steps.\n",
              " */\n",
              "function* uploadFilesStep(inputId, outputId) {\n",
              "  const inputElement = document.getElementById(inputId);\n",
              "  inputElement.disabled = false;\n",
              "\n",
              "  const outputElement = document.getElementById(outputId);\n",
              "  outputElement.innerHTML = '';\n",
              "\n",
              "  const pickedPromise = new Promise((resolve) => {\n",
              "    inputElement.addEventListener('change', (e) => {\n",
              "      resolve(e.target.files);\n",
              "    });\n",
              "  });\n",
              "\n",
              "  const cancel = document.createElement('button');\n",
              "  inputElement.parentElement.appendChild(cancel);\n",
              "  cancel.textContent = 'Cancel upload';\n",
              "  const cancelPromise = new Promise((resolve) => {\n",
              "    cancel.onclick = () => {\n",
              "      resolve(null);\n",
              "    };\n",
              "  });\n",
              "\n",
              "  // Wait for the user to pick the files.\n",
              "  const files = yield {\n",
              "    promise: Promise.race([pickedPromise, cancelPromise]),\n",
              "    response: {\n",
              "      action: 'starting',\n",
              "    }\n",
              "  };\n",
              "\n",
              "  cancel.remove();\n",
              "\n",
              "  // Disable the input element since further picks are not allowed.\n",
              "  inputElement.disabled = true;\n",
              "\n",
              "  if (!files) {\n",
              "    return {\n",
              "      response: {\n",
              "        action: 'complete',\n",
              "      }\n",
              "    };\n",
              "  }\n",
              "\n",
              "  for (const file of files) {\n",
              "    const li = document.createElement('li');\n",
              "    li.append(span(file.name, {fontWeight: 'bold'}));\n",
              "    li.append(span(\n",
              "        `(${file.type || 'n/a'}) - ${file.size} bytes, ` +\n",
              "        `last modified: ${\n",
              "            file.lastModifiedDate ? file.lastModifiedDate.toLocaleDateString() :\n",
              "                                    'n/a'} - `));\n",
              "    const percent = span('0% done');\n",
              "    li.appendChild(percent);\n",
              "\n",
              "    outputElement.appendChild(li);\n",
              "\n",
              "    const fileDataPromise = new Promise((resolve) => {\n",
              "      const reader = new FileReader();\n",
              "      reader.onload = (e) => {\n",
              "        resolve(e.target.result);\n",
              "      };\n",
              "      reader.readAsArrayBuffer(file);\n",
              "    });\n",
              "    // Wait for the data to be ready.\n",
              "    let fileData = yield {\n",
              "      promise: fileDataPromise,\n",
              "      response: {\n",
              "        action: 'continue',\n",
              "      }\n",
              "    };\n",
              "\n",
              "    // Use a chunked sending to avoid message size limits. See b/62115660.\n",
              "    let position = 0;\n",
              "    do {\n",
              "      const length = Math.min(fileData.byteLength - position, MAX_PAYLOAD_SIZE);\n",
              "      const chunk = new Uint8Array(fileData, position, length);\n",
              "      position += length;\n",
              "\n",
              "      const base64 = btoa(String.fromCharCode.apply(null, chunk));\n",
              "      yield {\n",
              "        response: {\n",
              "          action: 'append',\n",
              "          file: file.name,\n",
              "          data: base64,\n",
              "        },\n",
              "      };\n",
              "\n",
              "      let percentDone = fileData.byteLength === 0 ?\n",
              "          100 :\n",
              "          Math.round((position / fileData.byteLength) * 100);\n",
              "      percent.textContent = `${percentDone}% done`;\n",
              "\n",
              "    } while (position < fileData.byteLength);\n",
              "  }\n",
              "\n",
              "  // All done.\n",
              "  yield {\n",
              "    response: {\n",
              "      action: 'complete',\n",
              "    }\n",
              "  };\n",
              "}\n",
              "\n",
              "scope.google = scope.google || {};\n",
              "scope.google.colab = scope.google.colab || {};\n",
              "scope.google.colab._files = {\n",
              "  _uploadFiles,\n",
              "  _uploadFilesContinue,\n",
              "};\n",
              "})(self);\n",
              "</script> "
            ]
          },
          "metadata": {}
        },
        {
          "output_type": "stream",
          "name": "stdout",
          "text": [
            "Saving training_data.csv to training_data.csv\n"
          ]
        }
      ]
    },
    {
      "cell_type": "code",
      "source": [
        "#Importing all the required libraries\n",
        "\n",
        "import numpy as np\n",
        "import pandas as pd\n",
        "import matplotlib.pyplot as plt\n",
        "import seaborn as sns\n",
        "\n"
      ],
      "metadata": {
        "id": "F_x-LmKKbPLQ"
      },
      "execution_count": 3,
      "outputs": []
    },
    {
      "cell_type": "code",
      "execution_count": null,
      "metadata": {
        "id": "f7fSeBA6w8yI"
      },
      "outputs": [],
      "source": [
        "# Importing dataset\n",
        "\n",
        "data = pd.read_csv('training_data.csv',names=['open','high','low','close'] )\n",
        "df = pd.DataFrame(data)\n",
        "df"
      ]
    },
    {
      "cell_type": "code",
      "source": [
        "len(df)"
      ],
      "metadata": {
        "id": "JIW9DqfDbNJK"
      },
      "execution_count": null,
      "outputs": []
    },
    {
      "cell_type": "code",
      "source": [
        "df.describe()"
      ],
      "metadata": {
        "id": "pt34UtwEr5WU"
      },
      "execution_count": null,
      "outputs": []
    },
    {
      "cell_type": "code",
      "source": [
        "# showing column wise %ge of NaN values they contains \n",
        "\n",
        "for i in df.columns:\n",
        "  print(i,\"\\t-\\t\", df[i].isna().mean()*100)"
      ],
      "metadata": {
        "id": "QvTtuUKFsGBv"
      },
      "execution_count": null,
      "outputs": []
    },
    {
      "cell_type": "code",
      "source": [
        "close = df.reset_index()['close']\n",
        "close.head()"
      ],
      "metadata": {
        "id": "Hqoq5KNLsQcG"
      },
      "execution_count": null,
      "outputs": []
    },
    {
      "cell_type": "code",
      "source": [
        "plt.plot(close)\n",
        "plt.show()"
      ],
      "metadata": {
        "colab": {
          "base_uri": "https://localhost:8080/",
          "height": 265
        },
        "id": "xQzwW4KYslnI",
        "outputId": "15c3edaa-efd3-4882-d8dc-d028528261fe"
      },
      "execution_count": 13,
      "outputs": [
        {
          "output_type": "display_data",
          "data": {
            "text/plain": [
              "<Figure size 432x288 with 1 Axes>"
            ],
            "image/png": "[encoded data removed]"
          },
          "metadata": {
            "needs_background": "light"
          }
        }
      ]
    },
    {
      "cell_type": "code",
      "source": [
        "time_step = 19\n",
        "\n",
        "X, y = [], []\n",
        "\n",
        "for i in range(len(close)-time_step-1):\n",
        "    X.append(close[i:(i+time_step)])\n",
        "    y.append(close[(i+time_step)])\n",
        "\n",
        "X = np.array(X)\n",
        "y = np.array(y)"
      ],
      "metadata": {
        "id": "9j4qYhq0snS7"
      },
      "execution_count": 14,
      "outputs": []
    },
    {
      "cell_type": "code",
      "source": [
        "X[:5]"
      ],
      "metadata": {
        "id": "h_17N0OWsx6o"
      },
      "execution_count": null,
      "outputs": []
    },
    {
      "cell_type": "code",
      "source": [
        "y[:5]"
      ],
      "metadata": {
        "colab": {
          "base_uri": "https://localhost:8080/"
        },
        "id": "gmQxSeHUszt4",
        "outputId": "4b6927a9-3720-4621-ae55-8f6ce8c033af"
      },
      "execution_count": 16,
      "outputs": [
        {
          "output_type": "execute_result",
          "data": {
            "text/plain": [
              "array([65.050003, 66.      , 65.75    , 65.949997, 65.949997])"
            ]
          },
          "metadata": {},
          "execution_count": 16
        }
      ]
    },
    {
      "cell_type": "code",
      "source": [
        "from sklearn.preprocessing import MinMaxScaler\n",
        "\n",
        "scaler = MinMaxScaler()\n",
        "#X = scaler.fit_transform(X)\n",
        "pd.DataFrame(X).head()"
      ],
      "metadata": {
        "colab": {
          "base_uri": "https://localhost:8080/",
          "height": 270
        },
        "id": "4EbHLMbls5WA",
        "outputId": "2e7b5d71-ed64-4fae-d72d-b65f25ddb3ba"
      },
      "execution_count": 23,
      "outputs": [
        {
          "output_type": "execute_result",
          "data": {
            "text/plain": [
              "          0          1          2          3          4          5   \\\n",
              "0  63.150002  63.900002  65.000000  64.849998  63.450001  63.799999   \n",
              "1  63.900002  65.000000  64.849998  63.450001  63.799999  62.349998   \n",
              "2  65.000000  64.849998  63.450001  63.799999  62.349998  62.000000   \n",
              "3  64.849998  63.450001  63.799999  62.349998  62.000000  62.250000   \n",
              "4  63.450001  63.799999  62.349998  62.000000  62.250000  62.250000   \n",
              "\n",
              "          6          7          8          9          10         11  \\\n",
              "0  62.349998  62.000000  62.250000  62.250000  62.400002  63.599998   \n",
              "1  62.000000  62.250000  62.250000  62.400002  63.599998  63.250000   \n",
              "2  62.250000  62.250000  62.400002  63.599998  63.250000  63.400002   \n",
              "3  62.250000  62.400002  63.599998  63.250000  63.400002  63.900002   \n",
              "4  62.400002  63.599998  63.250000  63.400002  63.900002  64.849998   \n",
              "\n",
              "          12         13         14         15         16         17         18  \n",
              "0  63.250000  63.400002  63.900002  64.849998  64.699997  65.550003  65.300003  \n",
              "1  63.400002  63.900002  64.849998  64.699997  65.550003  65.300003  65.050003  \n",
              "2  63.900002  64.849998  64.699997  65.550003  65.300003  65.050003  66.000000  \n",
              "3  64.849998  64.699997  65.550003  65.300003  65.050003  66.000000  65.750000  \n",
              "4  64.699997  65.550003  65.300003  65.050003  66.000000  65.750000  65.949997  "
            ],
            "text/html": [
              "\n",
              "  <div id=\"df-91040faa-d505-47f5-9e5e-114d3270a41e\">\n",
              "    <div class=\"colab-df-container\">\n",
              "      <div>\n",
              "<style scoped>\n",
              "    .dataframe tbody tr th:only-of-type {\n",
              "        vertical-align: middle;\n",
              "    }\n",
              "\n",
              "    .dataframe tbody tr th {\n",
              "        vertical-align: top;\n",
              "    }\n",
              "\n",
              "    .dataframe thead th {\n",
              "        text-align: right;\n",
              "    }\n",
              "</style>\n",
              "<table border=\"1\" class=\"dataframe\">\n",
              "  <thead>\n",
              "    <tr style=\"text-align: right;\">\n",
              "      <th></th>\n",
              "      <th>0</th>\n",
              "      <th>1</th>\n",
              "      <th>2</th>\n",
              "      <th>3</th>\n",
              "      <th>4</th>\n",
              "      <th>5</th>\n",
              "      <th>6</th>\n",
              "      <th>7</th>\n",
              "      <th>8</th>\n",
              "      <th>9</th>\n",
              "      <th>10</th>\n",
              "      <th>11</th>\n",
              "      <th>12</th>\n",
              "      <th>13</th>\n",
              "      <th>14</th>\n",
              "      <th>15</th>\n",
              "      <th>16</th>\n",
              "      <th>17</th>\n",
              "      <th>18</th>\n",
              "    </tr>\n",
              "  </thead>\n",
              "  <tbody>\n",
              "    <tr>\n",
              "      <th>0</th>\n",
              "      <td>63.150002</td>\n",
              "      <td>63.900002</td>\n",
              "      <td>65.000000</td>\n",
              "      <td>64.849998</td>\n",
              "      <td>63.450001</td>\n",
              "      <td>63.799999</td>\n",
              "      <td>62.349998</td>\n",
              "      <td>62.000000</td>\n",
              "      <td>62.250000</td>\n",
              "      <td>62.250000</td>\n",
              "      <td>62.400002</td>\n",
              "      <td>63.599998</td>\n",
              "      <td>63.250000</td>\n",
              "      <td>63.400002</td>\n",
              "      <td>63.900002</td>\n",
              "      <td>64.849998</td>\n",
              "      <td>64.699997</td>\n",
              "      <td>65.550003</td>\n",
              "      <td>65.300003</td>\n",
              "    </tr>\n",
              "    <tr>\n",
              "      <th>1</th>\n",
              "      <td>63.900002</td>\n",
              "      <td>65.000000</td>\n",
              "      <td>64.849998</td>\n",
              "      <td>63.450001</td>\n",
              "      <td>63.799999</td>\n",
              "      <td>62.349998</td>\n",
              "      <td>62.000000</td>\n",
              "      <td>62.250000</td>\n",
              "      <td>62.250000</td>\n",
              "      <td>62.400002</td>\n",
              "      <td>63.599998</td>\n",
              "      <td>63.250000</td>\n",
              "      <td>63.400002</td>\n",
              "      <td>63.900002</td>\n",
              "      <td>64.849998</td>\n",
              "      <td>64.699997</td>\n",
              "      <td>65.550003</td>\n",
              "      <td>65.300003</td>\n",
              "      <td>65.050003</td>\n",
              "    </tr>\n",
              "    <tr>\n",
              "      <th>2</th>\n",
              "      <td>65.000000</td>\n",
              "      <td>64.849998</td>\n",
              "      <td>63.450001</td>\n",
              "      <td>63.799999</td>\n",
              "      <td>62.349998</td>\n",
              "      <td>62.000000</td>\n",
              "      <td>62.250000</td>\n",
              "      <td>62.250000</td>\n",
              "      <td>62.400002</td>\n",
              "      <td>63.599998</td>\n",
              "      <td>63.250000</td>\n",
              "      <td>63.400002</td>\n",
              "      <td>63.900002</td>\n",
              "      <td>64.849998</td>\n",
              "      <td>64.699997</td>\n",
              "      <td>65.550003</td>\n",
              "      <td>65.300003</td>\n",
              "      <td>65.050003</td>\n",
              "      <td>66.000000</td>\n",
              "    </tr>\n",
              "    <tr>\n",
              "      <th>3</th>\n",
              "      <td>64.849998</td>\n",
              "      <td>63.450001</td>\n",
              "      <td>63.799999</td>\n",
              "      <td>62.349998</td>\n",
              "      <td>62.000000</td>\n",
              "      <td>62.250000</td>\n",
              "      <td>62.250000</td>\n",
              "      <td>62.400002</td>\n",
              "      <td>63.599998</td>\n",
              "      <td>63.250000</td>\n",
              "      <td>63.400002</td>\n",
              "      <td>63.900002</td>\n",
              "      <td>64.849998</td>\n",
              "      <td>64.699997</td>\n",
              "      <td>65.550003</td>\n",
              "      <td>65.300003</td>\n",
              "      <td>65.050003</td>\n",
              "      <td>66.000000</td>\n",
              "      <td>65.750000</td>\n",
              "    </tr>\n",
              "    <tr>\n",
              "      <th>4</th>\n",
              "      <td>63.450001</td>\n",
              "      <td>63.799999</td>\n",
              "      <td>62.349998</td>\n",
              "      <td>62.000000</td>\n",
              "      <td>62.250000</td>\n",
              "      <td>62.250000</td>\n",
              "      <td>62.400002</td>\n",
              "      <td>63.599998</td>\n",
              "      <td>63.250000</td>\n",
              "      <td>63.400002</td>\n",
              "      <td>63.900002</td>\n",
              "      <td>64.849998</td>\n",
              "      <td>64.699997</td>\n",
              "      <td>65.550003</td>\n",
              "      <td>65.300003</td>\n",
              "      <td>65.050003</td>\n",
              "      <td>66.000000</td>\n",
              "      <td>65.750000</td>\n",
              "      <td>65.949997</td>\n",
              "    </tr>\n",
              "  </tbody>\n",
              "</table>\n",
              "</div>\n",
              "      <button class=\"colab-df-convert\" onclick=\"convertToInteractive('df-91040faa-d505-47f5-9e5e-114d3270a41e')\"\n",
              "              title=\"Convert this dataframe to an interactive table.\"\n",
              "              style=\"display:none;\">\n",
              "        \n",
              "  <svg xmlns=\"http://www.w3.org/2000/svg\" height=\"24px\"viewBox=\"0 0 24 24\"\n",
              "       width=\"24px\">\n",
              "    <path d=\"M0 0h24v24H0V0z\" fill=\"none\"/>\n",
              "    <path d=\"M18.56 5.44l.94 2.06.94-2.06 2.06-.94-2.06-.94-.94-2.06-.94 2.06-2.06.94zm-11 1L8.5 8.5l.94-2.06 2.06-.94-2.06-.94L8.5 2.5l-.94 2.06-2.06.94zm10 10l.94 2.06.94-2.06 2.06-.94-2.06-.94-.94-2.06-.94 2.06-2.06.94z\"/><path d=\"M17.41 7.96l-1.37-1.37c-.4-.4-.92-.59-1.43-.59-.52 0-1.04.2-1.43.59L10.3 9.45l-7.72 7.72c-.78.78-.78 2.05 0 2.83L4 21.41c.39.39.9.59 1.41.59.51 0 1.02-.2 1.41-.59l7.78-7.78 2.81-2.81c.8-.78.8-2.07 0-2.86zM5.41 20L4 18.59l7.72-7.72 1.47 1.35L5.41 20z\"/>\n",
              "  </svg>\n",
              "      </button>\n",
              "      \n",
              "  <style>\n",
              "    .colab-df-container {\n",
              "      display:flex;\n",
              "      flex-wrap:wrap;\n",
              "      gap: 12px;\n",
              "    }\n",
              "\n",
              "    .colab-df-convert {\n",
              "      background-color: #E8F0FE;\n",
              "      border: none;\n",
              "      border-radius: 50%;\n",
              "      cursor: pointer;\n",
              "      display: none;\n",
              "      fill: #1967D2;\n",
              "      height: 32px;\n",
              "      padding: 0 0 0 0;\n",
              "      width: 32px;\n",
              "    }\n",
              "\n",
              "    .colab-df-convert:hover {\n",
              "      background-color: #E2EBFA;\n",
              "      box-shadow: 0px 1px 2px rgba(60, 64, 67, 0.3), 0px 1px 3px 1px rgba(60, 64, 67, 0.15);\n",
              "      fill: #174EA6;\n",
              "    }\n",
              "\n",
              "    [theme=dark] .colab-df-convert {\n",
              "      background-color: #3B4455;\n",
              "      fill: #D2E3FC;\n",
              "    }\n",
              "\n",
              "    [theme=dark] .colab-df-convert:hover {\n",
              "      background-color: #434B5C;\n",
              "      box-shadow: 0px 1px 3px 1px rgba(0, 0, 0, 0.15);\n",
              "      filter: drop-shadow(0px 1px 2px rgba(0, 0, 0, 0.3));\n",
              "      fill: #FFFFFF;\n",
              "    }\n",
              "  </style>\n",
              "\n",
              "      <script>\n",
              "        const buttonEl =\n",
              "          document.querySelector('#df-91040faa-d505-47f5-9e5e-114d3270a41e button.colab-df-convert');\n",
              "        buttonEl.style.display =\n",
              "          google.colab.kernel.accessAllowed ? 'block' : 'none';\n",
              "\n",
              "        async function convertToInteractive(key) {\n",
              "          const element = document.querySelector('#df-91040faa-d505-47f5-9e5e-114d3270a41e');\n",
              "          const dataTable =\n",
              "            await google.colab.kernel.invokeFunction('convertToInteractive',\n",
              "                                                     [key], {});\n",
              "          if (!dataTable) return;\n",
              "\n",
              "          const docLinkHtml = 'Like what you see? Visit the ' +\n",
              "            '<a target=\"_blank\" href=https://colab.research.google.com/notebooks/data_table.ipynb>data table notebook</a>'\n",
              "            + ' to learn more about interactive tables.';\n",
              "          element.innerHTML = '';\n",
              "          dataTable['output_type'] = 'display_data';\n",
              "          await google.colab.output.renderOutput(dataTable, element);\n",
              "          const docLink = document.createElement('div');\n",
              "          docLink.innerHTML = docLinkHtml;\n",
              "          element.appendChild(docLink);\n",
              "        }\n",
              "      </script>\n",
              "    </div>\n",
              "  </div>\n",
              "  "
            ]
          },
          "metadata": {},
          "execution_count": 23
        }
      ]
    },
    {
      "cell_type": "code",
      "source": [
        "#now lets split data in test train pairs\n",
        "\n",
        "from sklearn.model_selection import train_test_split\n",
        "\n",
        "X_train, X_test, y_train, y_test = train_test_split(X, y, test_size = 0.3, shuffle=False)\n",
        "\n",
        "Acc = []"
      ],
      "metadata": {
        "id": "OF367yKetIpk"
      },
      "execution_count": 24,
      "outputs": []
    },
    {
      "cell_type": "code",
      "source": [
        "y_test"
      ],
      "metadata": {
        "id": "CCEy21wOvc4M"
      },
      "execution_count": null,
      "outputs": []
    },
    {
      "cell_type": "code",
      "source": [
        "X_train_ = X_train.reshape(X_train.shape[0],X_train.shape[1],1)\n",
        "X_test_ = X_test.reshape(X_test.shape[0],X_test.shape[1],1)"
      ],
      "metadata": {
        "id": "SlFAiCuqvoAy"
      },
      "execution_count": 26,
      "outputs": []
    },
    {
      "cell_type": "code",
      "source": [
        "from tensorflow.keras import Sequential,utils\n",
        "from tensorflow.keras.layers import Flatten, Dense, Conv1D, MaxPool1D, Dropout\n",
        "\n",
        "def regCNN():\n",
        "    \n",
        "    model = Sequential()\n",
        "    \n",
        "    model.add(Conv1D(32, kernel_size=(3,), padding='same', activation='relu', input_shape = (X_train.shape[1],1)))\n",
        "    model.add(Conv1D(64, kernel_size=(3,), padding='same', activation='relu'))\n",
        "    model.add(Conv1D(128, kernel_size=(5,), padding='same', activation='relu'))\n",
        "    \n",
        "    model.add(Flatten())\n",
        "    \n",
        "    model.add(Dense(50, activation='relu'))\n",
        "    model.add(Dense(20, activation='relu'))\n",
        "    model.add(Dense(units = 1))\n",
        "    \n",
        "    model.compile(loss='mean_squared_error', optimizer='adam')\n",
        "    \n",
        "    return model"
      ],
      "metadata": {
        "id": "7luMIxp8vvVC"
      },
      "execution_count": 27,
      "outputs": []
    },
    {
      "cell_type": "code",
      "source": [
        "# Model Training\n",
        "\n",
        "model_3 = regCNN()\n",
        "model_3.fit(X_train_, y_train, epochs=200, validation_split=0.2)"
      ],
      "metadata": {
        "colab": {
          "base_uri": "https://localhost:8080/"
        },
        "id": "6qC369RHvx9v",
        "outputId": "e117c888-d905-4bea-d5ec-5f49680eae99"
      },
      "execution_count": 28,
      "outputs": [
        {
          "output_type": "stream",
          "name": "stdout",
          "text": [
            "Epoch 1/200\n",
            "22/22 [==============================] - 1s 15ms/step - loss: 1138.3850 - val_loss: 46.2032\n",
            "Epoch 2/200\n",
            "22/22 [==============================] - 0s 9ms/step - loss: 33.0099 - val_loss: 4.4711\n",
            "Epoch 3/200\n",
            "22/22 [==============================] - 0s 8ms/step - loss: 4.8277 - val_loss: 5.9823\n",
            "Epoch 4/200\n",
            "22/22 [==============================] - 0s 8ms/step - loss: 3.3072 - val_loss: 4.6105\n",
            "Epoch 5/200\n",
            "22/22 [==============================] - 0s 8ms/step - loss: 2.7217 - val_loss: 4.6175\n",
            "Epoch 6/200\n",
            "22/22 [==============================] - 0s 8ms/step - loss: 3.1118 - val_loss: 4.8017\n",
            "Epoch 7/200\n",
            "22/22 [==============================] - 0s 9ms/step - loss: 2.7038 - val_loss: 4.5691\n",
            "Epoch 8/200\n",
            "22/22 [==============================] - 0s 8ms/step - loss: 3.0803 - val_loss: 5.6791\n",
            "Epoch 9/200\n",
            "22/22 [==============================] - 0s 9ms/step - loss: 3.7484 - val_loss: 4.3803\n",
            "Epoch 10/200\n",
            "22/22 [==============================] - 0s 9ms/step - loss: 2.9542 - val_loss: 4.8963\n",
            "Epoch 11/200\n",
            "22/22 [==============================] - 0s 8ms/step - loss: 3.7201 - val_loss: 4.5176\n",
            "Epoch 12/200\n",
            "22/22 [==============================] - 0s 9ms/step - loss: 2.8970 - val_loss: 4.7734\n",
            "Epoch 13/200\n",
            "22/22 [==============================] - 0s 7ms/step - loss: 2.5201 - val_loss: 4.6199\n",
            "Epoch 14/200\n",
            "22/22 [==============================] - 0s 8ms/step - loss: 2.5899 - val_loss: 4.2986\n",
            "Epoch 15/200\n",
            "22/22 [==============================] - 0s 9ms/step - loss: 2.5116 - val_loss: 4.2595\n",
            "Epoch 16/200\n",
            "22/22 [==============================] - 0s 9ms/step - loss: 2.6394 - val_loss: 4.1930\n",
            "Epoch 17/200\n",
            "22/22 [==============================] - 0s 9ms/step - loss: 2.6975 - val_loss: 7.5534\n",
            "Epoch 18/200\n",
            "22/22 [==============================] - 0s 8ms/step - loss: 3.0329 - val_loss: 4.2323\n",
            "Epoch 19/200\n",
            "22/22 [==============================] - 0s 9ms/step - loss: 2.4313 - val_loss: 4.4219\n",
            "Epoch 20/200\n",
            "22/22 [==============================] - 0s 8ms/step - loss: 2.5008 - val_loss: 4.1154\n",
            "Epoch 21/200\n",
            "22/22 [==============================] - 0s 8ms/step - loss: 2.5018 - val_loss: 7.8913\n",
            "Epoch 22/200\n",
            "22/22 [==============================] - 0s 8ms/step - loss: 2.7903 - val_loss: 16.9825\n",
            "Epoch 23/200\n",
            "22/22 [==============================] - 0s 8ms/step - loss: 6.8539 - val_loss: 4.3915\n",
            "Epoch 24/200\n",
            "22/22 [==============================] - 0s 8ms/step - loss: 2.8990 - val_loss: 4.2378\n",
            "Epoch 25/200\n",
            "22/22 [==============================] - 0s 7ms/step - loss: 2.9089 - val_loss: 6.7139\n",
            "Epoch 26/200\n",
            "22/22 [==============================] - 0s 8ms/step - loss: 5.7305 - val_loss: 3.9145\n",
            "Epoch 27/200\n",
            "22/22 [==============================] - 0s 8ms/step - loss: 3.3713 - val_loss: 4.0004\n",
            "Epoch 28/200\n",
            "22/22 [==============================] - 0s 8ms/step - loss: 2.5014 - val_loss: 4.1984\n",
            "Epoch 29/200\n",
            "22/22 [==============================] - 0s 8ms/step - loss: 2.3932 - val_loss: 4.7113\n",
            "Epoch 30/200\n",
            "22/22 [==============================] - 0s 8ms/step - loss: 2.6219 - val_loss: 6.0964\n",
            "Epoch 31/200\n",
            "22/22 [==============================] - 0s 9ms/step - loss: 2.3826 - val_loss: 5.2535\n",
            "Epoch 32/200\n",
            "22/22 [==============================] - 0s 10ms/step - loss: 2.9991 - val_loss: 3.6487\n",
            "Epoch 33/200\n",
            "22/22 [==============================] - 0s 8ms/step - loss: 2.6307 - val_loss: 3.6274\n",
            "Epoch 34/200\n",
            "22/22 [==============================] - 0s 8ms/step - loss: 2.3805 - val_loss: 3.9021\n",
            "Epoch 35/200\n",
            "22/22 [==============================] - 0s 8ms/step - loss: 2.1163 - val_loss: 3.6246\n",
            "Epoch 36/200\n",
            "22/22 [==============================] - 0s 8ms/step - loss: 2.7394 - val_loss: 3.5973\n",
            "Epoch 37/200\n",
            "22/22 [==============================] - 0s 8ms/step - loss: 2.3039 - val_loss: 4.7557\n",
            "Epoch 38/200\n",
            "22/22 [==============================] - 0s 8ms/step - loss: 2.2012 - val_loss: 5.1065\n",
            "Epoch 39/200\n",
            "22/22 [==============================] - 0s 8ms/step - loss: 2.3326 - val_loss: 5.4569\n",
            "Epoch 40/200\n",
            "22/22 [==============================] - 0s 9ms/step - loss: 2.7388 - val_loss: 4.6749\n",
            "Epoch 41/200\n",
            "22/22 [==============================] - 0s 8ms/step - loss: 2.6064 - val_loss: 7.9551\n",
            "Epoch 42/200\n",
            "22/22 [==============================] - 0s 8ms/step - loss: 2.5775 - val_loss: 3.2742\n",
            "Epoch 43/200\n",
            "22/22 [==============================] - 0s 8ms/step - loss: 2.1107 - val_loss: 3.7845\n",
            "Epoch 44/200\n",
            "22/22 [==============================] - 0s 8ms/step - loss: 1.9655 - val_loss: 4.8733\n",
            "Epoch 45/200\n",
            "22/22 [==============================] - 0s 9ms/step - loss: 2.8131 - val_loss: 3.2988\n",
            "Epoch 46/200\n",
            "22/22 [==============================] - 0s 8ms/step - loss: 2.5974 - val_loss: 3.2515\n",
            "Epoch 47/200\n",
            "22/22 [==============================] - 0s 8ms/step - loss: 2.1422 - val_loss: 5.1607\n",
            "Epoch 48/200\n",
            "22/22 [==============================] - 0s 8ms/step - loss: 2.4233 - val_loss: 3.4325\n",
            "Epoch 49/200\n",
            "22/22 [==============================] - 0s 8ms/step - loss: 2.4006 - val_loss: 10.1548\n",
            "Epoch 50/200\n",
            "22/22 [==============================] - 0s 8ms/step - loss: 2.9014 - val_loss: 3.2152\n",
            "Epoch 51/200\n",
            "22/22 [==============================] - 0s 8ms/step - loss: 2.1990 - val_loss: 6.2141\n",
            "Epoch 52/200\n",
            "22/22 [==============================] - 0s 9ms/step - loss: 2.7992 - val_loss: 4.6971\n",
            "Epoch 53/200\n",
            "22/22 [==============================] - 0s 9ms/step - loss: 2.4228 - val_loss: 5.6718\n",
            "Epoch 54/200\n",
            "22/22 [==============================] - 0s 8ms/step - loss: 2.0976 - val_loss: 2.7866\n",
            "Epoch 55/200\n",
            "22/22 [==============================] - 0s 8ms/step - loss: 1.8861 - val_loss: 4.9593\n",
            "Epoch 56/200\n",
            "22/22 [==============================] - 0s 8ms/step - loss: 2.3874 - val_loss: 6.5037\n",
            "Epoch 57/200\n",
            "22/22 [==============================] - 0s 8ms/step - loss: 3.2024 - val_loss: 2.8015\n",
            "Epoch 58/200\n",
            "22/22 [==============================] - 0s 8ms/step - loss: 1.5495 - val_loss: 2.6373\n",
            "Epoch 59/200\n",
            "22/22 [==============================] - 0s 8ms/step - loss: 1.6074 - val_loss: 6.2088\n",
            "Epoch 60/200\n",
            "22/22 [==============================] - 0s 8ms/step - loss: 2.0194 - val_loss: 3.5823\n",
            "Epoch 61/200\n",
            "22/22 [==============================] - 0s 9ms/step - loss: 1.7836 - val_loss: 3.4932\n",
            "Epoch 62/200\n",
            "22/22 [==============================] - 0s 9ms/step - loss: 2.3301 - val_loss: 13.9651\n",
            "Epoch 63/200\n",
            "22/22 [==============================] - 0s 8ms/step - loss: 3.0781 - val_loss: 11.2824\n",
            "Epoch 64/200\n",
            "22/22 [==============================] - 0s 8ms/step - loss: 3.3207 - val_loss: 3.5900\n",
            "Epoch 65/200\n",
            "22/22 [==============================] - 0s 8ms/step - loss: 2.1760 - val_loss: 3.1044\n",
            "Epoch 66/200\n",
            "22/22 [==============================] - 0s 8ms/step - loss: 1.4782 - val_loss: 7.8419\n",
            "Epoch 67/200\n",
            "22/22 [==============================] - 0s 8ms/step - loss: 2.2397 - val_loss: 2.4532\n",
            "Epoch 68/200\n",
            "22/22 [==============================] - 0s 8ms/step - loss: 1.9215 - val_loss: 2.2197\n",
            "Epoch 69/200\n",
            "22/22 [==============================] - 0s 8ms/step - loss: 1.2651 - val_loss: 5.0167\n",
            "Epoch 70/200\n",
            "22/22 [==============================] - 0s 8ms/step - loss: 2.2961 - val_loss: 4.4185\n",
            "Epoch 71/200\n",
            "22/22 [==============================] - 0s 9ms/step - loss: 1.5017 - val_loss: 2.2521\n",
            "Epoch 72/200\n",
            "22/22 [==============================] - 0s 8ms/step - loss: 1.6231 - val_loss: 3.6881\n",
            "Epoch 73/200\n",
            "22/22 [==============================] - 0s 8ms/step - loss: 1.8326 - val_loss: 4.1886\n",
            "Epoch 74/200\n",
            "22/22 [==============================] - 0s 8ms/step - loss: 1.5575 - val_loss: 2.4674\n",
            "Epoch 75/200\n",
            "22/22 [==============================] - 0s 8ms/step - loss: 2.0393 - val_loss: 2.4264\n",
            "Epoch 76/200\n",
            "22/22 [==============================] - 0s 8ms/step - loss: 1.3504 - val_loss: 1.8802\n",
            "Epoch 77/200\n",
            "22/22 [==============================] - 0s 8ms/step - loss: 1.0532 - val_loss: 1.8834\n",
            "Epoch 78/200\n",
            "22/22 [==============================] - 0s 8ms/step - loss: 1.0460 - val_loss: 1.7979\n",
            "Epoch 79/200\n",
            "22/22 [==============================] - 0s 8ms/step - loss: 1.4830 - val_loss: 1.8683\n",
            "Epoch 80/200\n",
            "22/22 [==============================] - 0s 8ms/step - loss: 1.0443 - val_loss: 4.4562\n",
            "Epoch 81/200\n",
            "22/22 [==============================] - 0s 8ms/step - loss: 1.8857 - val_loss: 12.3009\n",
            "Epoch 82/200\n",
            "22/22 [==============================] - 0s 8ms/step - loss: 2.9379 - val_loss: 2.0642\n",
            "Epoch 83/200\n",
            "22/22 [==============================] - 0s 8ms/step - loss: 1.1609 - val_loss: 1.8009\n",
            "Epoch 84/200\n",
            "22/22 [==============================] - 0s 8ms/step - loss: 0.9165 - val_loss: 1.8971\n",
            "Epoch 85/200\n",
            "22/22 [==============================] - 0s 8ms/step - loss: 1.3350 - val_loss: 4.0447\n",
            "Epoch 86/200\n",
            "22/22 [==============================] - 0s 8ms/step - loss: 1.4644 - val_loss: 2.1133\n",
            "Epoch 87/200\n",
            "22/22 [==============================] - 0s 8ms/step - loss: 0.9013 - val_loss: 4.5006\n",
            "Epoch 88/200\n",
            "22/22 [==============================] - 0s 9ms/step - loss: 1.1278 - val_loss: 17.2148\n",
            "Epoch 89/200\n",
            "22/22 [==============================] - 0s 9ms/step - loss: 4.4847 - val_loss: 2.4475\n",
            "Epoch 90/200\n",
            "22/22 [==============================] - 0s 8ms/step - loss: 1.3042 - val_loss: 1.9145\n",
            "Epoch 91/200\n",
            "22/22 [==============================] - 0s 8ms/step - loss: 1.0727 - val_loss: 1.7303\n",
            "Epoch 92/200\n",
            "22/22 [==============================] - 0s 8ms/step - loss: 1.2166 - val_loss: 14.3487\n",
            "Epoch 93/200\n",
            "22/22 [==============================] - 0s 8ms/step - loss: 3.5504 - val_loss: 2.8555\n",
            "Epoch 94/200\n",
            "22/22 [==============================] - 0s 8ms/step - loss: 1.4553 - val_loss: 3.2031\n",
            "Epoch 95/200\n",
            "22/22 [==============================] - 0s 8ms/step - loss: 1.9848 - val_loss: 3.1871\n",
            "Epoch 96/200\n",
            "22/22 [==============================] - 0s 9ms/step - loss: 1.3435 - val_loss: 3.7237\n",
            "Epoch 97/200\n",
            "22/22 [==============================] - 0s 8ms/step - loss: 2.0510 - val_loss: 1.5716\n",
            "Epoch 98/200\n",
            "22/22 [==============================] - 0s 9ms/step - loss: 1.0093 - val_loss: 3.5340\n",
            "Epoch 99/200\n",
            "22/22 [==============================] - 0s 8ms/step - loss: 2.2739 - val_loss: 7.7508\n",
            "Epoch 100/200\n",
            "22/22 [==============================] - 0s 8ms/step - loss: 2.1405 - val_loss: 1.4949\n",
            "Epoch 101/200\n",
            "22/22 [==============================] - 0s 8ms/step - loss: 1.1233 - val_loss: 6.5366\n",
            "Epoch 102/200\n",
            "22/22 [==============================] - 0s 8ms/step - loss: 1.3429 - val_loss: 6.4525\n",
            "Epoch 103/200\n",
            "22/22 [==============================] - 0s 8ms/step - loss: 2.4819 - val_loss: 13.8404\n",
            "Epoch 104/200\n",
            "22/22 [==============================] - 0s 8ms/step - loss: 3.0367 - val_loss: 1.7075\n",
            "Epoch 105/200\n",
            "22/22 [==============================] - 0s 8ms/step - loss: 1.9281 - val_loss: 1.4043\n",
            "Epoch 106/200\n",
            "22/22 [==============================] - 0s 8ms/step - loss: 0.9189 - val_loss: 1.3747\n",
            "Epoch 107/200\n",
            "22/22 [==============================] - 0s 8ms/step - loss: 0.9603 - val_loss: 2.4601\n",
            "Epoch 108/200\n",
            "22/22 [==============================] - 0s 9ms/step - loss: 1.3171 - val_loss: 2.7517\n",
            "Epoch 109/200\n",
            "22/22 [==============================] - 0s 8ms/step - loss: 1.8907 - val_loss: 9.6350\n",
            "Epoch 110/200\n",
            "22/22 [==============================] - 0s 8ms/step - loss: 3.2214 - val_loss: 1.3544\n",
            "Epoch 111/200\n",
            "22/22 [==============================] - 0s 9ms/step - loss: 0.8767 - val_loss: 2.8728\n",
            "Epoch 112/200\n",
            "22/22 [==============================] - 0s 8ms/step - loss: 1.1939 - val_loss: 1.0917\n",
            "Epoch 113/200\n",
            "22/22 [==============================] - 0s 8ms/step - loss: 1.3048 - val_loss: 2.0895\n",
            "Epoch 114/200\n",
            "22/22 [==============================] - 0s 8ms/step - loss: 1.0340 - val_loss: 6.6297\n",
            "Epoch 115/200\n",
            "22/22 [==============================] - 0s 8ms/step - loss: 1.5954 - val_loss: 10.4994\n",
            "Epoch 116/200\n",
            "22/22 [==============================] - 0s 8ms/step - loss: 3.2988 - val_loss: 1.2282\n",
            "Epoch 117/200\n",
            "22/22 [==============================] - 0s 8ms/step - loss: 1.0407 - val_loss: 2.7712\n",
            "Epoch 118/200\n",
            "22/22 [==============================] - 0s 8ms/step - loss: 1.0279 - val_loss: 1.3705\n",
            "Epoch 119/200\n",
            "22/22 [==============================] - 0s 8ms/step - loss: 0.6032 - val_loss: 1.3157\n",
            "Epoch 120/200\n",
            "22/22 [==============================] - 0s 9ms/step - loss: 0.6876 - val_loss: 0.9933\n",
            "Epoch 121/200\n",
            "22/22 [==============================] - 0s 9ms/step - loss: 0.5934 - val_loss: 1.2447\n",
            "Epoch 122/200\n",
            "22/22 [==============================] - 0s 8ms/step - loss: 0.6421 - val_loss: 8.4467\n",
            "Epoch 123/200\n",
            "22/22 [==============================] - 0s 8ms/step - loss: 2.3680 - val_loss: 2.0582\n",
            "Epoch 124/200\n",
            "22/22 [==============================] - 0s 8ms/step - loss: 0.8636 - val_loss: 3.0433\n",
            "Epoch 125/200\n",
            "22/22 [==============================] - 0s 8ms/step - loss: 0.8210 - val_loss: 1.0801\n",
            "Epoch 126/200\n",
            "22/22 [==============================] - 0s 8ms/step - loss: 0.8634 - val_loss: 2.5176\n",
            "Epoch 127/200\n",
            "22/22 [==============================] - 0s 8ms/step - loss: 0.7251 - val_loss: 6.2082\n",
            "Epoch 128/200\n",
            "22/22 [==============================] - 0s 8ms/step - loss: 1.4773 - val_loss: 8.7948\n",
            "Epoch 129/200\n",
            "22/22 [==============================] - 0s 8ms/step - loss: 2.4732 - val_loss: 2.8111\n",
            "Epoch 130/200\n",
            "22/22 [==============================] - 0s 8ms/step - loss: 0.7399 - val_loss: 0.9247\n",
            "Epoch 131/200\n",
            "22/22 [==============================] - 0s 18ms/step - loss: 0.5923 - val_loss: 6.8148\n",
            "Epoch 132/200\n",
            "22/22 [==============================] - 0s 14ms/step - loss: 1.8782 - val_loss: 75.6709\n",
            "Epoch 133/200\n",
            "22/22 [==============================] - 0s 8ms/step - loss: 16.4167 - val_loss: 43.1791\n",
            "Epoch 134/200\n",
            "22/22 [==============================] - 0s 8ms/step - loss: 10.0145 - val_loss: 5.1512\n",
            "Epoch 135/200\n",
            "22/22 [==============================] - 0s 15ms/step - loss: 1.9454 - val_loss: 4.8687\n",
            "Epoch 136/200\n",
            "22/22 [==============================] - 0s 14ms/step - loss: 1.0706 - val_loss: 1.0153\n",
            "Epoch 137/200\n",
            "22/22 [==============================] - 0s 9ms/step - loss: 0.9918 - val_loss: 2.7367\n",
            "Epoch 138/200\n",
            "22/22 [==============================] - 0s 9ms/step - loss: 1.1832 - val_loss: 1.3792\n",
            "Epoch 139/200\n",
            "22/22 [==============================] - 0s 10ms/step - loss: 0.6364 - val_loss: 1.1805\n",
            "Epoch 140/200\n",
            "22/22 [==============================] - 0s 9ms/step - loss: 0.6124 - val_loss: 3.1052\n",
            "Epoch 141/200\n",
            "22/22 [==============================] - 0s 8ms/step - loss: 1.5910 - val_loss: 0.9810\n",
            "Epoch 142/200\n",
            "22/22 [==============================] - 0s 9ms/step - loss: 1.3927 - val_loss: 4.5350\n",
            "Epoch 143/200\n",
            "22/22 [==============================] - 0s 8ms/step - loss: 1.7576 - val_loss: 0.9395\n",
            "Epoch 144/200\n",
            "22/22 [==============================] - 0s 8ms/step - loss: 0.8516 - val_loss: 3.2071\n",
            "Epoch 145/200\n",
            "22/22 [==============================] - 0s 8ms/step - loss: 1.4688 - val_loss: 8.4275\n",
            "Epoch 146/200\n",
            "22/22 [==============================] - 0s 9ms/step - loss: 1.6583 - val_loss: 1.1582\n",
            "Epoch 147/200\n",
            "22/22 [==============================] - 0s 8ms/step - loss: 0.6137 - val_loss: 1.3200\n",
            "Epoch 148/200\n",
            "22/22 [==============================] - 0s 8ms/step - loss: 0.6410 - val_loss: 0.9881\n",
            "Epoch 149/200\n",
            "22/22 [==============================] - 0s 8ms/step - loss: 0.5849 - val_loss: 0.8918\n",
            "Epoch 150/200\n",
            "22/22 [==============================] - 0s 9ms/step - loss: 0.7383 - val_loss: 0.9346\n",
            "Epoch 151/200\n",
            "22/22 [==============================] - 0s 8ms/step - loss: 0.7219 - val_loss: 1.5321\n",
            "Epoch 152/200\n",
            "22/22 [==============================] - 0s 8ms/step - loss: 0.6516 - val_loss: 3.9322\n",
            "Epoch 153/200\n",
            "22/22 [==============================] - 0s 8ms/step - loss: 0.8842 - val_loss: 0.8908\n",
            "Epoch 154/200\n",
            "22/22 [==============================] - 0s 10ms/step - loss: 0.5691 - val_loss: 0.9829\n",
            "Epoch 155/200\n",
            "22/22 [==============================] - 0s 8ms/step - loss: 0.5527 - val_loss: 0.9428\n",
            "Epoch 156/200\n",
            "22/22 [==============================] - 0s 8ms/step - loss: 0.5748 - val_loss: 1.2751\n",
            "Epoch 157/200\n",
            "22/22 [==============================] - 0s 8ms/step - loss: 0.5315 - val_loss: 2.1942\n",
            "Epoch 158/200\n",
            "22/22 [==============================] - 0s 8ms/step - loss: 0.6975 - val_loss: 0.9005\n",
            "Epoch 159/200\n",
            "22/22 [==============================] - 0s 8ms/step - loss: 0.6539 - val_loss: 1.2645\n",
            "Epoch 160/200\n",
            "22/22 [==============================] - 0s 8ms/step - loss: 1.2994 - val_loss: 3.0307\n",
            "Epoch 161/200\n",
            "22/22 [==============================] - 0s 8ms/step - loss: 0.9857 - val_loss: 3.7871\n",
            "Epoch 162/200\n",
            "22/22 [==============================] - 0s 8ms/step - loss: 1.2567 - val_loss: 2.4491\n",
            "Epoch 163/200\n",
            "22/22 [==============================] - 0s 9ms/step - loss: 0.7342 - val_loss: 1.3310\n",
            "Epoch 164/200\n",
            "22/22 [==============================] - 0s 8ms/step - loss: 0.7237 - val_loss: 2.4102\n",
            "Epoch 165/200\n",
            "22/22 [==============================] - 0s 9ms/step - loss: 0.7495 - val_loss: 2.3642\n",
            "Epoch 166/200\n",
            "22/22 [==============================] - 0s 9ms/step - loss: 0.8473 - val_loss: 1.7706\n",
            "Epoch 167/200\n",
            "22/22 [==============================] - 0s 9ms/step - loss: 0.6207 - val_loss: 1.2811\n",
            "Epoch 168/200\n",
            "22/22 [==============================] - 0s 8ms/step - loss: 0.7069 - val_loss: 7.8356\n",
            "Epoch 169/200\n",
            "22/22 [==============================] - 0s 8ms/step - loss: 1.7061 - val_loss: 2.1769\n",
            "Epoch 170/200\n",
            "22/22 [==============================] - 0s 8ms/step - loss: 1.1082 - val_loss: 6.5179\n",
            "Epoch 171/200\n",
            "22/22 [==============================] - 0s 9ms/step - loss: 1.2540 - val_loss: 0.8295\n",
            "Epoch 172/200\n",
            "22/22 [==============================] - 0s 8ms/step - loss: 0.5081 - val_loss: 2.3486\n",
            "Epoch 173/200\n",
            "22/22 [==============================] - 0s 9ms/step - loss: 1.1795 - val_loss: 4.4061\n",
            "Epoch 174/200\n",
            "22/22 [==============================] - 0s 9ms/step - loss: 1.4025 - val_loss: 0.8525\n",
            "Epoch 175/200\n",
            "22/22 [==============================] - 0s 8ms/step - loss: 0.7642 - val_loss: 2.0612\n",
            "Epoch 176/200\n",
            "22/22 [==============================] - 0s 10ms/step - loss: 0.6278 - val_loss: 1.5631\n",
            "Epoch 177/200\n",
            "22/22 [==============================] - 0s 9ms/step - loss: 0.9602 - val_loss: 1.5218\n",
            "Epoch 178/200\n",
            "22/22 [==============================] - 0s 8ms/step - loss: 0.7834 - val_loss: 0.9962\n",
            "Epoch 179/200\n",
            "22/22 [==============================] - 0s 8ms/step - loss: 0.6385 - val_loss: 6.0467\n",
            "Epoch 180/200\n",
            "22/22 [==============================] - 0s 8ms/step - loss: 1.0393 - val_loss: 1.7446\n",
            "Epoch 181/200\n",
            "22/22 [==============================] - 0s 8ms/step - loss: 1.0498 - val_loss: 0.8721\n",
            "Epoch 182/200\n",
            "22/22 [==============================] - 0s 8ms/step - loss: 0.5767 - val_loss: 0.8170\n",
            "Epoch 183/200\n",
            "22/22 [==============================] - 0s 8ms/step - loss: 0.8653 - val_loss: 5.2194\n",
            "Epoch 184/200\n",
            "22/22 [==============================] - 0s 8ms/step - loss: 1.4502 - val_loss: 1.7209\n",
            "Epoch 185/200\n",
            "22/22 [==============================] - 0s 8ms/step - loss: 0.6483 - val_loss: 3.8869\n",
            "Epoch 186/200\n",
            "22/22 [==============================] - 0s 8ms/step - loss: 1.1843 - val_loss: 3.2883\n",
            "Epoch 187/200\n",
            "22/22 [==============================] - 0s 9ms/step - loss: 1.1290 - val_loss: 0.8083\n",
            "Epoch 188/200\n",
            "22/22 [==============================] - 0s 8ms/step - loss: 0.6223 - val_loss: 0.8544\n",
            "Epoch 189/200\n",
            "22/22 [==============================] - 0s 8ms/step - loss: 0.7278 - val_loss: 4.3942\n",
            "Epoch 190/200\n",
            "22/22 [==============================] - 0s 9ms/step - loss: 1.7256 - val_loss: 2.0936\n",
            "Epoch 191/200\n",
            "22/22 [==============================] - 0s 8ms/step - loss: 1.3799 - val_loss: 10.3509\n",
            "Epoch 192/200\n",
            "22/22 [==============================] - 0s 9ms/step - loss: 2.2644 - val_loss: 0.9621\n",
            "Epoch 193/200\n",
            "22/22 [==============================] - 0s 9ms/step - loss: 0.6790 - val_loss: 0.8165\n",
            "Epoch 194/200\n",
            "22/22 [==============================] - 0s 9ms/step - loss: 0.4918 - val_loss: 0.8027\n",
            "Epoch 195/200\n",
            "22/22 [==============================] - 0s 9ms/step - loss: 0.7694 - val_loss: 2.0793\n",
            "Epoch 196/200\n",
            "22/22 [==============================] - 0s 8ms/step - loss: 1.0069 - val_loss: 2.7829\n",
            "Epoch 197/200\n",
            "22/22 [==============================] - 0s 9ms/step - loss: 1.0317 - val_loss: 1.2422\n",
            "Epoch 198/200\n",
            "22/22 [==============================] - 0s 8ms/step - loss: 0.5535 - val_loss: 0.9585\n",
            "Epoch 199/200\n",
            "22/22 [==============================] - 0s 8ms/step - loss: 0.6113 - val_loss: 1.0746\n",
            "Epoch 200/200\n",
            "22/22 [==============================] - 0s 8ms/step - loss: 0.6836 - val_loss: 1.6462\n"
          ]
        },
        {
          "output_type": "execute_result",
          "data": {
            "text/plain": [
              "<keras.callbacks.History at 0x7f3c818f3750>"
            ]
          },
          "metadata": {},
          "execution_count": 28
        }
      ]
    },
    {
      "cell_type": "code",
      "source": [
        "# Prediction\n",
        "\n",
        "y_pred_3 = model_3.predict(X_test_)"
      ],
      "metadata": {
        "colab": {
          "base_uri": "https://localhost:8080/"
        },
        "id": "_Gti0BJ4wDxY",
        "outputId": "72df4e52-a620-4137-c234-8a765ae7d5bf"
      },
      "execution_count": 29,
      "outputs": [
        {
          "output_type": "stream",
          "name": "stdout",
          "text": [
            "12/12 [==============================] - 0s 2ms/step\n"
          ]
        }
      ]
    },
    {
      "cell_type": "code",
      "source": [
        "pred_df = pd.DataFrame({'Actual': y_test, 'Predicted': y_pred_3.flatten()})\n",
        "pred_df.head()"
      ],
      "metadata": {
        "colab": {
          "base_uri": "https://localhost:8080/",
          "height": 206
        },
        "id": "cmgw9YFfwLcT",
        "outputId": "32d77e9b-7cbd-49ef-8699-973ca3341f9e"
      },
      "execution_count": 30,
      "outputs": [
        {
          "output_type": "execute_result",
          "data": {
            "text/plain": [
              "      Actual  Predicted\n",
              "0  79.349998  78.036842\n",
              "1  78.150002  78.393738\n",
              "2  78.650002  77.640717\n",
              "3  78.500000  77.431412\n",
              "4  78.500000  77.521561"
            ],
            "text/html": [
              "\n",
              "  <div id=\"df-80119a9d-9d93-4d88-9e05-0c0c95e315de\">\n",
              "    <div class=\"colab-df-container\">\n",
              "      <div>\n",
              "<style scoped>\n",
              "    .dataframe tbody tr th:only-of-type {\n",
              "        vertical-align: middle;\n",
              "    }\n",
              "\n",
              "    .dataframe tbody tr th {\n",
              "        vertical-align: top;\n",
              "    }\n",
              "\n",
              "    .dataframe thead th {\n",
              "        text-align: right;\n",
              "    }\n",
              "</style>\n",
              "<table border=\"1\" class=\"dataframe\">\n",
              "  <thead>\n",
              "    <tr style=\"text-align: right;\">\n",
              "      <th></th>\n",
              "      <th>Actual</th>\n",
              "      <th>Predicted</th>\n",
              "    </tr>\n",
              "  </thead>\n",
              "  <tbody>\n",
              "    <tr>\n",
              "      <th>0</th>\n",
              "      <td>79.349998</td>\n",
              "      <td>78.036842</td>\n",
              "    </tr>\n",
              "    <tr>\n",
              "      <th>1</th>\n",
              "      <td>78.150002</td>\n",
              "      <td>78.393738</td>\n",
              "    </tr>\n",
              "    <tr>\n",
              "      <th>2</th>\n",
              "      <td>78.650002</td>\n",
              "      <td>77.640717</td>\n",
              "    </tr>\n",
              "    <tr>\n",
              "      <th>3</th>\n",
              "      <td>78.500000</td>\n",
              "      <td>77.431412</td>\n",
              "    </tr>\n",
              "    <tr>\n",
              "      <th>4</th>\n",
              "      <td>78.500000</td>\n",
              "      <td>77.521561</td>\n",
              "    </tr>\n",
              "  </tbody>\n",
              "</table>\n",
              "</div>\n",
              "      <button class=\"colab-df-convert\" onclick=\"convertToInteractive('df-80119a9d-9d93-4d88-9e05-0c0c95e315de')\"\n",
              "              title=\"Convert this dataframe to an interactive table.\"\n",
              "              style=\"display:none;\">\n",
              "        \n",
              "  <svg xmlns=\"http://www.w3.org/2000/svg\" height=\"24px\"viewBox=\"0 0 24 24\"\n",
              "       width=\"24px\">\n",
              "    <path d=\"M0 0h24v24H0V0z\" fill=\"none\"/>\n",
              "    <path d=\"M18.56 5.44l.94 2.06.94-2.06 2.06-.94-2.06-.94-.94-2.06-.94 2.06-2.06.94zm-11 1L8.5 8.5l.94-2.06 2.06-.94-2.06-.94L8.5 2.5l-.94 2.06-2.06.94zm10 10l.94 2.06.94-2.06 2.06-.94-2.06-.94-.94-2.06-.94 2.06-2.06.94z\"/><path d=\"M17.41 7.96l-1.37-1.37c-.4-.4-.92-.59-1.43-.59-.52 0-1.04.2-1.43.59L10.3 9.45l-7.72 7.72c-.78.78-.78 2.05 0 2.83L4 21.41c.39.39.9.59 1.41.59.51 0 1.02-.2 1.41-.59l7.78-7.78 2.81-2.81c.8-.78.8-2.07 0-2.86zM5.41 20L4 18.59l7.72-7.72 1.47 1.35L5.41 20z\"/>\n",
              "  </svg>\n",
              "      </button>\n",
              "      \n",
              "  <style>\n",
              "    .colab-df-container {\n",
              "      display:flex;\n",
              "      flex-wrap:wrap;\n",
              "      gap: 12px;\n",
              "    }\n",
              "\n",
              "    .colab-df-convert {\n",
              "      background-color: #E8F0FE;\n",
              "      border: none;\n",
              "      border-radius: 50%;\n",
              "      cursor: pointer;\n",
              "      display: none;\n",
              "      fill: #1967D2;\n",
              "      height: 32px;\n",
              "      padding: 0 0 0 0;\n",
              "      width: 32px;\n",
              "    }\n",
              "\n",
              "    .colab-df-convert:hover {\n",
              "      background-color: #E2EBFA;\n",
              "      box-shadow: 0px 1px 2px rgba(60, 64, 67, 0.3), 0px 1px 3px 1px rgba(60, 64, 67, 0.15);\n",
              "      fill: #174EA6;\n",
              "    }\n",
              "\n",
              "    [theme=dark] .colab-df-convert {\n",
              "      background-color: #3B4455;\n",
              "      fill: #D2E3FC;\n",
              "    }\n",
              "\n",
              "    [theme=dark] .colab-df-convert:hover {\n",
              "      background-color: #434B5C;\n",
              "      box-shadow: 0px 1px 3px 1px rgba(0, 0, 0, 0.15);\n",
              "      filter: drop-shadow(0px 1px 2px rgba(0, 0, 0, 0.3));\n",
              "      fill: #FFFFFF;\n",
              "    }\n",
              "  </style>\n",
              "\n",
              "      <script>\n",
              "        const buttonEl =\n",
              "          document.querySelector('#df-80119a9d-9d93-4d88-9e05-0c0c95e315de button.colab-df-convert');\n",
              "        buttonEl.style.display =\n",
              "          google.colab.kernel.accessAllowed ? 'block' : 'none';\n",
              "\n",
              "        async function convertToInteractive(key) {\n",
              "          const element = document.querySelector('#df-80119a9d-9d93-4d88-9e05-0c0c95e315de');\n",
              "          const dataTable =\n",
              "            await google.colab.kernel.invokeFunction('convertToInteractive',\n",
              "                                                     [key], {});\n",
              "          if (!dataTable) return;\n",
              "\n",
              "          const docLinkHtml = 'Like what you see? Visit the ' +\n",
              "            '<a target=\"_blank\" href=https://colab.research.google.com/notebooks/data_table.ipynb>data table notebook</a>'\n",
              "            + ' to learn more about interactive tables.';\n",
              "          element.innerHTML = '';\n",
              "          dataTable['output_type'] = 'display_data';\n",
              "          await google.colab.output.renderOutput(dataTable, element);\n",
              "          const docLink = document.createElement('div');\n",
              "          docLink.innerHTML = docLinkHtml;\n",
              "          element.appendChild(docLink);\n",
              "        }\n",
              "      </script>\n",
              "    </div>\n",
              "  </div>\n",
              "  "
            ]
          },
          "metadata": {},
          "execution_count": 30
        }
      ]
    },
    {
      "cell_type": "code",
      "source": [
        "len(y_test)"
      ],
      "metadata": {
        "colab": {
          "base_uri": "https://localhost:8080/"
        },
        "id": "v37ihg6VwQI8",
        "outputId": "cd276e95-dfa5-499f-c203-e586245e9a7e"
      },
      "execution_count": 31,
      "outputs": [
        {
          "output_type": "execute_result",
          "data": {
            "text/plain": [
              "362"
            ]
          },
          "metadata": {},
          "execution_count": 31
        }
      ]
    },
    {
      "cell_type": "code",
      "source": [
        "# Measure the Accuracy Score\n",
        "\n",
        "from sklearn.metrics import r2_score\n",
        " \n",
        "print(\"Accuracy score of the predictions: {0}\".format(r2_score(y_test, y_pred_3)))\n",
        "Acc.append(r2_score(y_test, y_pred_3))"
      ],
      "metadata": {
        "colab": {
          "base_uri": "https://localhost:8080/"
        },
        "id": "ZgAqpB1JwRcT",
        "outputId": "ac84124e-46b6-4fde-89da-8d485931ba11"
      },
      "execution_count": 32,
      "outputs": [
        {
          "output_type": "stream",
          "name": "stdout",
          "text": [
            "Accuracy score of the predictions: 0.9531347679917211\n"
          ]
        }
      ]
    },
    {
      "cell_type": "code",
      "source": [
        "plt.figure(figsize=(8,8))\n",
        "plt.ylabel('Close Price', fontsize=16)\n",
        "plt.plot(pred_df)\n",
        "plt.legend(['Actual Value', 'Predictions'])\n",
        "plt.show()"
      ],
      "metadata": {
        "colab": {
          "base_uri": "https://localhost:8080/",
          "height": 483
        },
        "id": "vjaGEyjOwZOS",
        "outputId": "1913aad0-d6f7-4750-d973-479171b94031"
      },
      "execution_count": 33,
      "outputs": [
        {
          "output_type": "display_data",
          "data": {
            "text/plain": [
              "<Figure size 576x576 with 1 Axes>"
            ],
            "image/png": "[encoded data removed]"
          },
          "metadata": {
            "needs_background": "light"
          }
        }
      ]
    },
    {
      "cell_type": "code",
      "source": [
        "from google.colab import files\n",
        "uploaded = files.upload()"
      ],
      "metadata": {
        "colab": {
          "base_uri": "https://localhost:8080/",
          "height": 76
        },
        "id": "bGecD-Abwg5X",
        "outputId": "48a41ec4-e588-4180-cad6-f58e54a96e5f"
      },
      "execution_count": 34,
      "outputs": [
        {
          "output_type": "display_data",
          "data": {
            "text/plain": [
              "<IPython.core.display.HTML object>"
            ],
            "text/html": [
              "\n",
              "     <input type=\"file\" id=\"files-1da2455b-f39a-4aa2-898c-5a8f8c452f3f\" name=\"files[]\" multiple disabled\n",
              "        style=\"border:none\" />\n",
              "     <output id=\"result-1da2455b-f39a-4aa2-898c-5a8f8c452f3f\">\n",
              "      Upload widget is only available when the cell has been executed in the\n",
              "      current browser session. Please rerun this cell to enable.\n",
              "      </output>\n",
              "      <script>// Copyright 2017 Google LLC\n",
              "//\n",
              "// Licensed under the Apache License, Version 2.0 (the \"License\");\n",
              "// you may not use this file except in compliance with the License.\n",
              "// You may obtain a copy of the License at\n",
              "//\n",
              "//      http://www.apache.org/licenses/LICENSE-2.0\n",
              "//\n",
              "// Unless required by applicable law or agreed to in writing, software\n",
              "// distributed under the License is distributed on an \"AS IS\" BASIS,\n",
              "// WITHOUT WARRANTIES OR CONDITIONS OF ANY KIND, either express or implied.\n",
              "// See the License for the specific language governing permissions and\n",
              "// limitations under the License.\n",
              "\n",
              "/**\n",
              " * @fileoverview Helpers for google.colab Python module.\n",
              " */\n",
              "(function(scope) {\n",
              "function span(text, styleAttributes = {}) {\n",
              "  const element = document.createElement('span');\n",
              "  element.textContent = text;\n",
              "  for (const key of Object.keys(styleAttributes)) {\n",
              "    element.style[key] = styleAttributes[key];\n",
              "  }\n",
              "  return element;\n",
              "}\n",
              "\n",
              "// Max number of bytes which will be uploaded at a time.\n",
              "const MAX_PAYLOAD_SIZE = 100 * 1024;\n",
              "\n",
              "function _uploadFiles(inputId, outputId) {\n",
              "  const steps = uploadFilesStep(inputId, outputId);\n",
              "  const outputElement = document.getElementById(outputId);\n",
              "  // Cache steps on the outputElement to make it available for the next call\n",
              "  // to uploadFilesContinue from Python.\n",
              "  outputElement.steps = steps;\n",
              "\n",
              "  return _uploadFilesContinue(outputId);\n",
              "}\n",
              "\n",
              "// This is roughly an async generator (not supported in the browser yet),\n",
              "// where there are multiple asynchronous steps and the Python side is going\n",
              "// to poll for completion of each step.\n",
              "// This uses a Promise to block the python side on completion of each step,\n",
              "// then passes the result of the previous step as the input to the next step.\n",
              "function _uploadFilesContinue(outputId) {\n",
              "  const outputElement = document.getElementById(outputId);\n",
              "  const steps = outputElement.steps;\n",
              "\n",
              "  const next = steps.next(outputElement.lastPromiseValue);\n",
              "  return Promise.resolve(next.value.promise).then((value) => {\n",
              "    // Cache the last promise value to make it available to the next\n",
              "    // step of the generator.\n",
              "    outputElement.lastPromiseValue = value;\n",
              "    return next.value.response;\n",
              "  });\n",
              "}\n",
              "\n",
              "/**\n",
              " * Generator function which is called between each async step of the upload\n",
              " * process.\n",
              " * @param {string} inputId Element ID of the input file picker element.\n",
              " * @param {string} outputId Element ID of the output display.\n",
              " * @return {!Iterable<!Object>} Iterable of next steps.\n",
              " */\n",
              "function* uploadFilesStep(inputId, outputId) {\n",
              "  const inputElement = document.getElementById(inputId);\n",
              "  inputElement.disabled = false;\n",
              "\n",
              "  const outputElement = document.getElementById(outputId);\n",
              "  outputElement.innerHTML = '';\n",
              "\n",
              "  const pickedPromise = new Promise((resolve) => {\n",
              "    inputElement.addEventListener('change', (e) => {\n",
              "      resolve(e.target.files);\n",
              "    });\n",
              "  });\n",
              "\n",
              "  const cancel = document.createElement('button');\n",
              "  inputElement.parentElement.appendChild(cancel);\n",
              "  cancel.textContent = 'Cancel upload';\n",
              "  const cancelPromise = new Promise((resolve) => {\n",
              "    cancel.onclick = () => {\n",
              "      resolve(null);\n",
              "    };\n",
              "  });\n",
              "\n",
              "  // Wait for the user to pick the files.\n",
              "  const files = yield {\n",
              "    promise: Promise.race([pickedPromise, cancelPromise]),\n",
              "    response: {\n",
              "      action: 'starting',\n",
              "    }\n",
              "  };\n",
              "\n",
              "  cancel.remove();\n",
              "\n",
              "  // Disable the input element since further picks are not allowed.\n",
              "  inputElement.disabled = true;\n",
              "\n",
              "  if (!files) {\n",
              "    return {\n",
              "      response: {\n",
              "        action: 'complete',\n",
              "      }\n",
              "    };\n",
              "  }\n",
              "\n",
              "  for (const file of files) {\n",
              "    const li = document.createElement('li');\n",
              "    li.append(span(file.name, {fontWeight: 'bold'}));\n",
              "    li.append(span(\n",
              "        `(${file.type || 'n/a'}) - ${file.size} bytes, ` +\n",
              "        `last modified: ${\n",
              "            file.lastModifiedDate ? file.lastModifiedDate.toLocaleDateString() :\n",
              "                                    'n/a'} - `));\n",
              "    const percent = span('0% done');\n",
              "    li.appendChild(percent);\n",
              "\n",
              "    outputElement.appendChild(li);\n",
              "\n",
              "    const fileDataPromise = new Promise((resolve) => {\n",
              "      const reader = new FileReader();\n",
              "      reader.onload = (e) => {\n",
              "        resolve(e.target.result);\n",
              "      };\n",
              "      reader.readAsArrayBuffer(file);\n",
              "    });\n",
              "    // Wait for the data to be ready.\n",
              "    let fileData = yield {\n",
              "      promise: fileDataPromise,\n",
              "      response: {\n",
              "        action: 'continue',\n",
              "      }\n",
              "    };\n",
              "\n",
              "    // Use a chunked sending to avoid message size limits. See b/62115660.\n",
              "    let position = 0;\n",
              "    do {\n",
              "      const length = Math.min(fileData.byteLength - position, MAX_PAYLOAD_SIZE);\n",
              "      const chunk = new Uint8Array(fileData, position, length);\n",
              "      position += length;\n",
              "\n",
              "      const base64 = btoa(String.fromCharCode.apply(null, chunk));\n",
              "      yield {\n",
              "        response: {\n",
              "          action: 'append',\n",
              "          file: file.name,\n",
              "          data: base64,\n",
              "        },\n",
              "      };\n",
              "\n",
              "      let percentDone = fileData.byteLength === 0 ?\n",
              "          100 :\n",
              "          Math.round((position / fileData.byteLength) * 100);\n",
              "      percent.textContent = `${percentDone}% done`;\n",
              "\n",
              "    } while (position < fileData.byteLength);\n",
              "  }\n",
              "\n",
              "  // All done.\n",
              "  yield {\n",
              "    response: {\n",
              "      action: 'complete',\n",
              "    }\n",
              "  };\n",
              "}\n",
              "\n",
              "scope.google = scope.google || {};\n",
              "scope.google.colab = scope.google.colab || {};\n",
              "scope.google.colab._files = {\n",
              "  _uploadFiles,\n",
              "  _uploadFilesContinue,\n",
              "};\n",
              "})(self);\n",
              "</script> "
            ]
          },
          "metadata": {}
        },
        {
          "output_type": "stream",
          "name": "stdout",
          "text": [
            "Saving testing_data.csv to testing_data.csv\n"
          ]
        }
      ]
    },
    {
      "cell_type": "code",
      "source": [
        "# Importing dataset\n",
        "\n",
        "testdata = pd.read_csv('testing_data.csv',names=['open','high','low','close'] )\n",
        "testdf = pd.DataFrame(testdata)"
      ],
      "metadata": {
        "id": "i-DM_73RwsII"
      },
      "execution_count": 35,
      "outputs": []
    },
    {
      "cell_type": "code",
      "source": [
        "testclose = testdf.reset_index()['close']\n",
        "testclose.head()"
      ],
      "metadata": {
        "colab": {
          "base_uri": "https://localhost:8080/"
        },
        "id": "lEc-DuRrww60",
        "outputId": "bf44718b-2248-4208-8c80-88ec13b6c56a"
      },
      "execution_count": 36,
      "outputs": [
        {
          "output_type": "execute_result",
          "data": {
            "text/plain": [
              "0    104.949997\n",
              "1    106.550003\n",
              "2    105.400002\n",
              "3    105.300003\n",
              "4    104.449997\n",
              "Name: close, dtype: float64"
            ]
          },
          "metadata": {},
          "execution_count": 36
        }
      ]
    },
    {
      "cell_type": "code",
      "source": [
        "time_step = 18\n",
        "len(testclose)-time_step-1"
      ],
      "metadata": {
        "colab": {
          "base_uri": "https://localhost:8080/"
        },
        "id": "Zs0bvN33xB6K",
        "outputId": "cc7e184d-73c4-42b0-8c35-c4fb5ee4649f"
      },
      "execution_count": 37,
      "outputs": [
        {
          "output_type": "execute_result",
          "data": {
            "text/plain": [
              "1"
            ]
          },
          "metadata": {},
          "execution_count": 37
        }
      ]
    },
    {
      "cell_type": "code",
      "source": [
        "len(testclose)"
      ],
      "metadata": {
        "colab": {
          "base_uri": "https://localhost:8080/"
        },
        "id": "F5a6FXFexHaK",
        "outputId": "d5a6b4db-4d39-428f-a748-d1a4e27148d8"
      },
      "execution_count": 38,
      "outputs": [
        {
          "output_type": "execute_result",
          "data": {
            "text/plain": [
              "20"
            ]
          },
          "metadata": {},
          "execution_count": 38
        }
      ]
    },
    {
      "cell_type": "code",
      "source": [
        "time_step = 19\n",
        "X, y = [], []\n",
        "\n",
        "for i in range(len(testclose)-time_step):\n",
        "    print(i)\n",
        "    X.append(testclose[i:(i+time_step)])\n",
        "    y.append(testclose[(i+time_step)])\n",
        "\n",
        "X = np.array(X)\n",
        "y = np.array(y)"
      ],
      "metadata": {
        "colab": {
          "base_uri": "https://localhost:8080/"
        },
        "id": "IFOrEM-3xKls",
        "outputId": "0de371dc-fd33-4d8f-c1ce-94b3a70be326"
      },
      "execution_count": 39,
      "outputs": [
        {
          "output_type": "stream",
          "name": "stdout",
          "text": [
            "0\n"
          ]
        }
      ]
    },
    {
      "cell_type": "code",
      "source": [
        "X[:5]"
      ],
      "metadata": {
        "colab": {
          "base_uri": "https://localhost:8080/"
        },
        "id": "Dm0fJlyCxQQR",
        "outputId": "a4d4ab6d-dd2b-4c67-f2c2-46c65f71d08c"
      },
      "execution_count": 40,
      "outputs": [
        {
          "output_type": "execute_result",
          "data": {
            "text/plain": [
              "array([[104.949997, 106.550003, 105.400002, 105.300003, 104.449997,\n",
              "        103.099998, 102.949997, 100.449997, 100.650002, 102.300003,\n",
              "        102.550003, 103.      , 103.050003, 104.25    , 104.800003,\n",
              "        106.199997, 107.050003, 107.099998, 106.699997]])"
            ]
          },
          "metadata": {},
          "execution_count": 40
        }
      ]
    },
    {
      "cell_type": "code",
      "source": [
        "y[:5]"
      ],
      "metadata": {
        "colab": {
          "base_uri": "https://localhost:8080/"
        },
        "id": "ddWYKdJWxVE3",
        "outputId": "f2cea7e6-da62-4c2f-8998-35dff110462f"
      },
      "execution_count": 41,
      "outputs": [
        {
          "output_type": "execute_result",
          "data": {
            "text/plain": [
              "array([105.699997])"
            ]
          },
          "metadata": {},
          "execution_count": 41
        }
      ]
    },
    {
      "cell_type": "code",
      "source": [
        "from sklearn.preprocessing import MinMaxScaler\n",
        "\n",
        "scaler = MinMaxScaler()\n",
        "#X = scaler.fit_transform(X)\n",
        "pd.DataFrame(X).head()"
      ],
      "metadata": {
        "colab": {
          "base_uri": "https://localhost:8080/",
          "height": 145
        },
        "id": "aXgdo-xExbsF",
        "outputId": "c8939a94-f6be-4819-e588-8086809e5dab"
      },
      "execution_count": 42,
      "outputs": [
        {
          "output_type": "execute_result",
          "data": {
            "text/plain": [
              "           0           1           2           3           4           5   \\\n",
              "0  104.949997  106.550003  105.400002  105.300003  104.449997  103.099998   \n",
              "\n",
              "           6           7           8           9           10     11  \\\n",
              "0  102.949997  100.449997  100.650002  102.300003  102.550003  103.0   \n",
              "\n",
              "           12      13          14          15          16          17  \\\n",
              "0  103.050003  104.25  104.800003  106.199997  107.050003  107.099998   \n",
              "\n",
              "           18  \n",
              "0  106.699997  "
            ],
            "text/html": [
              "\n",
              "  <div id=\"df-7152dcc5-ca1d-4e8d-8169-8bd67ea82428\">\n",
              "    <div class=\"colab-df-container\">\n",
              "      <div>\n",
              "<style scoped>\n",
              "    .dataframe tbody tr th:only-of-type {\n",
              "        vertical-align: middle;\n",
              "    }\n",
              "\n",
              "    .dataframe tbody tr th {\n",
              "        vertical-align: top;\n",
              "    }\n",
              "\n",
              "    .dataframe thead th {\n",
              "        text-align: right;\n",
              "    }\n",
              "</style>\n",
              "<table border=\"1\" class=\"dataframe\">\n",
              "  <thead>\n",
              "    <tr style=\"text-align: right;\">\n",
              "      <th></th>\n",
              "      <th>0</th>\n",
              "      <th>1</th>\n",
              "      <th>2</th>\n",
              "      <th>3</th>\n",
              "      <th>4</th>\n",
              "      <th>5</th>\n",
              "      <th>6</th>\n",
              "      <th>7</th>\n",
              "      <th>8</th>\n",
              "      <th>9</th>\n",
              "      <th>10</th>\n",
              "      <th>11</th>\n",
              "      <th>12</th>\n",
              "      <th>13</th>\n",
              "      <th>14</th>\n",
              "      <th>15</th>\n",
              "      <th>16</th>\n",
              "      <th>17</th>\n",
              "      <th>18</th>\n",
              "    </tr>\n",
              "  </thead>\n",
              "  <tbody>\n",
              "    <tr>\n",
              "      <th>0</th>\n",
              "      <td>104.949997</td>\n",
              "      <td>106.550003</td>\n",
              "      <td>105.400002</td>\n",
              "      <td>105.300003</td>\n",
              "      <td>104.449997</td>\n",
              "      <td>103.099998</td>\n",
              "      <td>102.949997</td>\n",
              "      <td>100.449997</td>\n",
              "      <td>100.650002</td>\n",
              "      <td>102.300003</td>\n",
              "      <td>102.550003</td>\n",
              "      <td>103.0</td>\n",
              "      <td>103.050003</td>\n",
              "      <td>104.25</td>\n",
              "      <td>104.800003</td>\n",
              "      <td>106.199997</td>\n",
              "      <td>107.050003</td>\n",
              "      <td>107.099998</td>\n",
              "      <td>106.699997</td>\n",
              "    </tr>\n",
              "  </tbody>\n",
              "</table>\n",
              "</div>\n",
              "      <button class=\"colab-df-convert\" onclick=\"convertToInteractive('df-7152dcc5-ca1d-4e8d-8169-8bd67ea82428')\"\n",
              "              title=\"Convert this dataframe to an interactive table.\"\n",
              "              style=\"display:none;\">\n",
              "        \n",
              "  <svg xmlns=\"http://www.w3.org/2000/svg\" height=\"24px\"viewBox=\"0 0 24 24\"\n",
              "       width=\"24px\">\n",
              "    <path d=\"M0 0h24v24H0V0z\" fill=\"none\"/>\n",
              "    <path d=\"M18.56 5.44l.94 2.06.94-2.06 2.06-.94-2.06-.94-.94-2.06-.94 2.06-2.06.94zm-11 1L8.5 8.5l.94-2.06 2.06-.94-2.06-.94L8.5 2.5l-.94 2.06-2.06.94zm10 10l.94 2.06.94-2.06 2.06-.94-2.06-.94-.94-2.06-.94 2.06-2.06.94z\"/><path d=\"M17.41 7.96l-1.37-1.37c-.4-.4-.92-.59-1.43-.59-.52 0-1.04.2-1.43.59L10.3 9.45l-7.72 7.72c-.78.78-.78 2.05 0 2.83L4 21.41c.39.39.9.59 1.41.59.51 0 1.02-.2 1.41-.59l7.78-7.78 2.81-2.81c.8-.78.8-2.07 0-2.86zM5.41 20L4 18.59l7.72-7.72 1.47 1.35L5.41 20z\"/>\n",
              "  </svg>\n",
              "      </button>\n",
              "      \n",
              "  <style>\n",
              "    .colab-df-container {\n",
              "      display:flex;\n",
              "      flex-wrap:wrap;\n",
              "      gap: 12px;\n",
              "    }\n",
              "\n",
              "    .colab-df-convert {\n",
              "      background-color: #E8F0FE;\n",
              "      border: none;\n",
              "      border-radius: 50%;\n",
              "      cursor: pointer;\n",
              "      display: none;\n",
              "      fill: #1967D2;\n",
              "      height: 32px;\n",
              "      padding: 0 0 0 0;\n",
              "      width: 32px;\n",
              "    }\n",
              "\n",
              "    .colab-df-convert:hover {\n",
              "      background-color: #E2EBFA;\n",
              "      box-shadow: 0px 1px 2px rgba(60, 64, 67, 0.3), 0px 1px 3px 1px rgba(60, 64, 67, 0.15);\n",
              "      fill: #174EA6;\n",
              "    }\n",
              "\n",
              "    [theme=dark] .colab-df-convert {\n",
              "      background-color: #3B4455;\n",
              "      fill: #D2E3FC;\n",
              "    }\n",
              "\n",
              "    [theme=dark] .colab-df-convert:hover {\n",
              "      background-color: #434B5C;\n",
              "      box-shadow: 0px 1px 3px 1px rgba(0, 0, 0, 0.15);\n",
              "      filter: drop-shadow(0px 1px 2px rgba(0, 0, 0, 0.3));\n",
              "      fill: #FFFFFF;\n",
              "    }\n",
              "  </style>\n",
              "\n",
              "      <script>\n",
              "        const buttonEl =\n",
              "          document.querySelector('#df-7152dcc5-ca1d-4e8d-8169-8bd67ea82428 button.colab-df-convert');\n",
              "        buttonEl.style.display =\n",
              "          google.colab.kernel.accessAllowed ? 'block' : 'none';\n",
              "\n",
              "        async function convertToInteractive(key) {\n",
              "          const element = document.querySelector('#df-7152dcc5-ca1d-4e8d-8169-8bd67ea82428');\n",
              "          const dataTable =\n",
              "            await google.colab.kernel.invokeFunction('convertToInteractive',\n",
              "                                                     [key], {});\n",
              "          if (!dataTable) return;\n",
              "\n",
              "          const docLinkHtml = 'Like what you see? Visit the ' +\n",
              "            '<a target=\"_blank\" href=https://colab.research.google.com/notebooks/data_table.ipynb>data table notebook</a>'\n",
              "            + ' to learn more about interactive tables.';\n",
              "          element.innerHTML = '';\n",
              "          dataTable['output_type'] = 'display_data';\n",
              "          await google.colab.output.renderOutput(dataTable, element);\n",
              "          const docLink = document.createElement('div');\n",
              "          docLink.innerHTML = docLinkHtml;\n",
              "          element.appendChild(docLink);\n",
              "        }\n",
              "      </script>\n",
              "    </div>\n",
              "  </div>\n",
              "  "
            ]
          },
          "metadata": {},
          "execution_count": 42
        }
      ]
    },
    {
      "cell_type": "code",
      "source": [
        "X_test_ = X.reshape(X.shape[0],X.shape[1],1)"
      ],
      "metadata": {
        "id": "hBwepQxxxgi9"
      },
      "execution_count": 43,
      "outputs": []
    },
    {
      "cell_type": "code",
      "source": [
        "X_test_"
      ],
      "metadata": {
        "colab": {
          "base_uri": "https://localhost:8080/"
        },
        "id": "8pmBSb3lxlZD",
        "outputId": "4f880abe-ec12-48a4-ef96-85974a1bc664"
      },
      "execution_count": 44,
      "outputs": [
        {
          "output_type": "execute_result",
          "data": {
            "text/plain": [
              "array([[[104.949997],\n",
              "        [106.550003],\n",
              "        [105.400002],\n",
              "        [105.300003],\n",
              "        [104.449997],\n",
              "        [103.099998],\n",
              "        [102.949997],\n",
              "        [100.449997],\n",
              "        [100.650002],\n",
              "        [102.300003],\n",
              "        [102.550003],\n",
              "        [103.      ],\n",
              "        [103.050003],\n",
              "        [104.25    ],\n",
              "        [104.800003],\n",
              "        [106.199997],\n",
              "        [107.050003],\n",
              "        [107.099998],\n",
              "        [106.699997]]])"
            ]
          },
          "metadata": {},
          "execution_count": 44
        }
      ]
    },
    {
      "cell_type": "code",
      "source": [
        "# Prediction\n",
        "\n",
        "y_pred_3_test = model_3.predict(X_test_)"
      ],
      "metadata": {
        "colab": {
          "base_uri": "https://localhost:8080/"
        },
        "id": "7GE55DzKxnIg",
        "outputId": "c8ada9ed-ce16-4b4d-d42d-80c8d2d0d0ba"
      },
      "execution_count": 45,
      "outputs": [
        {
          "output_type": "stream",
          "name": "stdout",
          "text": [
            "1/1 [==============================] - 0s 17ms/step\n"
          ]
        }
      ]
    },
    {
      "cell_type": "code",
      "source": [
        "y_pred_3_test"
      ],
      "metadata": {
        "colab": {
          "base_uri": "https://localhost:8080/"
        },
        "id": "hOum_vtOxuE0",
        "outputId": "a93fcc8a-80aa-4e79-a01e-024d9a5e0fba"
      },
      "execution_count": 46,
      "outputs": [
        {
          "output_type": "execute_result",
          "data": {
            "text/plain": [
              "array([[105.670456]], dtype=float32)"
            ]
          },
          "metadata": {},
          "execution_count": 46
        }
      ]
    },
    {
      "cell_type": "code",
      "source": [
        "pred_df = pd.DataFrame({'Actual': y, 'Predicted': y_pred_3_test.flatten()})\n",
        "pred_df.head()"
      ],
      "metadata": {
        "colab": {
          "base_uri": "https://localhost:8080/",
          "height": 81
        },
        "id": "4GY5nRC2xvTq",
        "outputId": "4ec3d926-64f0-4e09-c2e1-1444e11868a7"
      },
      "execution_count": 47,
      "outputs": [
        {
          "output_type": "execute_result",
          "data": {
            "text/plain": [
              "       Actual   Predicted\n",
              "0  105.699997  105.670456"
            ],
            "text/html": [
              "\n",
              "  <div id=\"df-d9288dac-ce59-46d8-a183-4d14bc0a178b\">\n",
              "    <div class=\"colab-df-container\">\n",
              "      <div>\n",
              "<style scoped>\n",
              "    .dataframe tbody tr th:only-of-type {\n",
              "        vertical-align: middle;\n",
              "    }\n",
              "\n",
              "    .dataframe tbody tr th {\n",
              "        vertical-align: top;\n",
              "    }\n",
              "\n",
              "    .dataframe thead th {\n",
              "        text-align: right;\n",
              "    }\n",
              "</style>\n",
              "<table border=\"1\" class=\"dataframe\">\n",
              "  <thead>\n",
              "    <tr style=\"text-align: right;\">\n",
              "      <th></th>\n",
              "      <th>Actual</th>\n",
              "      <th>Predicted</th>\n",
              "    </tr>\n",
              "  </thead>\n",
              "  <tbody>\n",
              "    <tr>\n",
              "      <th>0</th>\n",
              "      <td>105.699997</td>\n",
              "      <td>105.670456</td>\n",
              "    </tr>\n",
              "  </tbody>\n",
              "</table>\n",
              "</div>\n",
              "      <button class=\"colab-df-convert\" onclick=\"convertToInteractive('df-d9288dac-ce59-46d8-a183-4d14bc0a178b')\"\n",
              "              title=\"Convert this dataframe to an interactive table.\"\n",
              "              style=\"display:none;\">\n",
              "        \n",
              "  <svg xmlns=\"http://www.w3.org/2000/svg\" height=\"24px\"viewBox=\"0 0 24 24\"\n",
              "       width=\"24px\">\n",
              "    <path d=\"M0 0h24v24H0V0z\" fill=\"none\"/>\n",
              "    <path d=\"M18.56 5.44l.94 2.06.94-2.06 2.06-.94-2.06-.94-.94-2.06-.94 2.06-2.06.94zm-11 1L8.5 8.5l.94-2.06 2.06-.94-2.06-.94L8.5 2.5l-.94 2.06-2.06.94zm10 10l.94 2.06.94-2.06 2.06-.94-2.06-.94-.94-2.06-.94 2.06-2.06.94z\"/><path d=\"M17.41 7.96l-1.37-1.37c-.4-.4-.92-.59-1.43-.59-.52 0-1.04.2-1.43.59L10.3 9.45l-7.72 7.72c-.78.78-.78 2.05 0 2.83L4 21.41c.39.39.9.59 1.41.59.51 0 1.02-.2 1.41-.59l7.78-7.78 2.81-2.81c.8-.78.8-2.07 0-2.86zM5.41 20L4 18.59l7.72-7.72 1.47 1.35L5.41 20z\"/>\n",
              "  </svg>\n",
              "      </button>\n",
              "      \n",
              "  <style>\n",
              "    .colab-df-container {\n",
              "      display:flex;\n",
              "      flex-wrap:wrap;\n",
              "      gap: 12px;\n",
              "    }\n",
              "\n",
              "    .colab-df-convert {\n",
              "      background-color: #E8F0FE;\n",
              "      border: none;\n",
              "      border-radius: 50%;\n",
              "      cursor: pointer;\n",
              "      display: none;\n",
              "      fill: #1967D2;\n",
              "      height: 32px;\n",
              "      padding: 0 0 0 0;\n",
              "      width: 32px;\n",
              "    }\n",
              "\n",
              "    .colab-df-convert:hover {\n",
              "      background-color: #E2EBFA;\n",
              "      box-shadow: 0px 1px 2px rgba(60, 64, 67, 0.3), 0px 1px 3px 1px rgba(60, 64, 67, 0.15);\n",
              "      fill: #174EA6;\n",
              "    }\n",
              "\n",
              "    [theme=dark] .colab-df-convert {\n",
              "      background-color: #3B4455;\n",
              "      fill: #D2E3FC;\n",
              "    }\n",
              "\n",
              "    [theme=dark] .colab-df-convert:hover {\n",
              "      background-color: #434B5C;\n",
              "      box-shadow: 0px 1px 3px 1px rgba(0, 0, 0, 0.15);\n",
              "      filter: drop-shadow(0px 1px 2px rgba(0, 0, 0, 0.3));\n",
              "      fill: #FFFFFF;\n",
              "    }\n",
              "  </style>\n",
              "\n",
              "      <script>\n",
              "        const buttonEl =\n",
              "          document.querySelector('#df-d9288dac-ce59-46d8-a183-4d14bc0a178b button.colab-df-convert');\n",
              "        buttonEl.style.display =\n",
              "          google.colab.kernel.accessAllowed ? 'block' : 'none';\n",
              "\n",
              "        async function convertToInteractive(key) {\n",
              "          const element = document.querySelector('#df-d9288dac-ce59-46d8-a183-4d14bc0a178b');\n",
              "          const dataTable =\n",
              "            await google.colab.kernel.invokeFunction('convertToInteractive',\n",
              "                                                     [key], {});\n",
              "          if (!dataTable) return;\n",
              "\n",
              "          const docLinkHtml = 'Like what you see? Visit the ' +\n",
              "            '<a target=\"_blank\" href=https://colab.research.google.com/notebooks/data_table.ipynb>data table notebook</a>'\n",
              "            + ' to learn more about interactive tables.';\n",
              "          element.innerHTML = '';\n",
              "          dataTable['output_type'] = 'display_data';\n",
              "          await google.colab.output.renderOutput(dataTable, element);\n",
              "          const docLink = document.createElement('div');\n",
              "          docLink.innerHTML = docLinkHtml;\n",
              "          element.appendChild(docLink);\n",
              "        }\n",
              "      </script>\n",
              "    </div>\n",
              "  </div>\n",
              "  "
            ]
          },
          "metadata": {},
          "execution_count": 47
        }
      ]
    },
    {
      "cell_type": "code",
      "source": [],
      "metadata": {
        "id": "dvsIzzV4yIcg"
      },
      "execution_count": null,
      "outputs": []
    }
  ]
}